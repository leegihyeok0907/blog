{
  "cells": [
    {
      "attachments": {},
      "cell_type": "markdown",
      "metadata": {},
      "source": [
        "---\n",
        "title: \"kaggle exercise 5\"\n",
        "author: \"L G H\"\n",
        "date: \"2023-05-30\"\n",
        "categories: [data_mining]\n",
        "---"
      ]
    },
    {
      "cell_type": "code",
      "execution_count": null,
      "metadata": {
        "colab": {
          "base_uri": "https://localhost:8080/"
        },
        "id": "e6A4Ff_ifVR8",
        "outputId": "29a46e65-e88a-4bfe-fd69-6af9e564d5e8"
      },
      "outputs": [
        {
          "name": "stdout",
          "output_type": "stream",
          "text": [
            "Looking in indexes: https://pypi.org/simple, https://us-python.pkg.dev/colab-wheels/public/simple/\n",
            "Collecting geopandas\n",
            "  Downloading geopandas-0.13.0-py3-none-any.whl (1.1 MB)\n",
            "\u001b[2K     \u001b[90m━━━━━━━━━━━━━━━━━━━━━━━━━━━━━━━━━━━━━━━━\u001b[0m \u001b[32m1.1/1.1 MB\u001b[0m \u001b[31m17.2 MB/s\u001b[0m eta \u001b[36m0:00:00\u001b[0m\n",
            "\u001b[?25hCollecting fiona>=1.8.19 (from geopandas)\n",
            "  Downloading Fiona-1.9.4.post1-cp310-cp310-manylinux_2_17_x86_64.manylinux2014_x86_64.whl (16.4 MB)\n",
            "\u001b[2K     \u001b[90m━━━━━━━━━━━━━━━━━━━━━━━━━━━━━━━━━━━━━━━━\u001b[0m \u001b[32m16.4/16.4 MB\u001b[0m \u001b[31m83.7 MB/s\u001b[0m eta \u001b[36m0:00:00\u001b[0m\n",
            "\u001b[?25hRequirement already satisfied: packaging in /usr/local/lib/python3.10/dist-packages (from geopandas) (23.1)\n",
            "Requirement already satisfied: pandas>=1.1.0 in /usr/local/lib/python3.10/dist-packages (from geopandas) (1.5.3)\n",
            "Collecting pyproj>=3.0.1 (from geopandas)\n",
            "  Downloading pyproj-3.5.0-cp310-cp310-manylinux_2_17_x86_64.manylinux2014_x86_64.whl (7.7 MB)\n",
            "\u001b[2K     \u001b[90m━━━━━━━━━━━━━━━━━━━━━━━━━━━━━━━━━━━━━━━━\u001b[0m \u001b[32m7.7/7.7 MB\u001b[0m \u001b[31m76.2 MB/s\u001b[0m eta \u001b[36m0:00:00\u001b[0m\n",
            "\u001b[?25hRequirement already satisfied: shapely>=1.7.1 in /usr/local/lib/python3.10/dist-packages (from geopandas) (2.0.1)\n",
            "Requirement already satisfied: attrs>=19.2.0 in /usr/local/lib/python3.10/dist-packages (from fiona>=1.8.19->geopandas) (23.1.0)\n",
            "Requirement already satisfied: certifi in /usr/local/lib/python3.10/dist-packages (from fiona>=1.8.19->geopandas) (2022.12.7)\n",
            "Requirement already satisfied: click~=8.0 in /usr/local/lib/python3.10/dist-packages (from fiona>=1.8.19->geopandas) (8.1.3)\n",
            "Collecting click-plugins>=1.0 (from fiona>=1.8.19->geopandas)\n",
            "  Downloading click_plugins-1.1.1-py2.py3-none-any.whl (7.5 kB)\n",
            "Collecting cligj>=0.5 (from fiona>=1.8.19->geopandas)\n",
            "  Downloading cligj-0.7.2-py3-none-any.whl (7.1 kB)\n",
            "Requirement already satisfied: six in /usr/local/lib/python3.10/dist-packages (from fiona>=1.8.19->geopandas) (1.16.0)\n",
            "Requirement already satisfied: python-dateutil>=2.8.1 in /usr/local/lib/python3.10/dist-packages (from pandas>=1.1.0->geopandas) (2.8.2)\n",
            "Requirement already satisfied: pytz>=2020.1 in /usr/local/lib/python3.10/dist-packages (from pandas>=1.1.0->geopandas) (2022.7.1)\n",
            "Requirement already satisfied: numpy>=1.21.0 in /usr/local/lib/python3.10/dist-packages (from pandas>=1.1.0->geopandas) (1.22.4)\n",
            "Installing collected packages: pyproj, cligj, click-plugins, fiona, geopandas\n",
            "Successfully installed click-plugins-1.1.1 cligj-0.7.2 fiona-1.9.4.post1 geopandas-0.13.0 pyproj-3.5.0\n"
          ]
        }
      ],
      "source": [
        "!pip install geopandas"
      ]
    },
    {
      "cell_type": "code",
      "execution_count": null,
      "metadata": {
        "id": "9Llq8J5efasa"
      },
      "outputs": [],
      "source": [
        "import geopandas as gpd\n",
        "import folium"
      ]
    },
    {
      "cell_type": "code",
      "execution_count": null,
      "metadata": {
        "colab": {
          "base_uri": "https://localhost:8080/",
          "height": 206
        },
        "id": "AjqVeHGnjQmU",
        "outputId": "f8a1acba-7f77-4809-f569-df9dd6d86e96"
      },
      "outputs": [
        {
          "data": {
            "text/html": [
              "\n",
              "  <div id=\"df-0f286e4d-50fa-49e5-9aea-b0449d99b5f8\">\n",
              "    <div class=\"colab-df-container\">\n",
              "      <div>\n",
              "<style scoped>\n",
              "    .dataframe tbody tr th:only-of-type {\n",
              "        vertical-align: middle;\n",
              "    }\n",
              "\n",
              "    .dataframe tbody tr th {\n",
              "        vertical-align: top;\n",
              "    }\n",
              "\n",
              "    .dataframe thead th {\n",
              "        text-align: right;\n",
              "    }\n",
              "</style>\n",
              "<table border=\"1\" class=\"dataframe\">\n",
              "  <thead>\n",
              "    <tr style=\"text-align: right;\">\n",
              "      <th></th>\n",
              "      <th>YEAR</th>\n",
              "      <th>CITY</th>\n",
              "      <th>COUNTY</th>\n",
              "      <th>ST</th>\n",
              "      <th>LATITUDE</th>\n",
              "      <th>LONGITUDE</th>\n",
              "      <th>CHEMICAL</th>\n",
              "      <th>UNIT_OF_ME</th>\n",
              "      <th>TOTAL_RELE</th>\n",
              "      <th>geometry</th>\n",
              "    </tr>\n",
              "  </thead>\n",
              "  <tbody>\n",
              "    <tr>\n",
              "      <th>0</th>\n",
              "      <td>2016</td>\n",
              "      <td>PHILADELPHIA</td>\n",
              "      <td>PHILADELPHIA</td>\n",
              "      <td>PA</td>\n",
              "      <td>40.005901</td>\n",
              "      <td>-75.072103</td>\n",
              "      <td>FORMIC ACID</td>\n",
              "      <td>Pounds</td>\n",
              "      <td>0.160</td>\n",
              "      <td>POINT (2718560.227 256380.179)</td>\n",
              "    </tr>\n",
              "    <tr>\n",
              "      <th>1</th>\n",
              "      <td>2016</td>\n",
              "      <td>PHILADELPHIA</td>\n",
              "      <td>PHILADELPHIA</td>\n",
              "      <td>PA</td>\n",
              "      <td>39.920120</td>\n",
              "      <td>-75.146410</td>\n",
              "      <td>ETHYLENE GLYCOL</td>\n",
              "      <td>Pounds</td>\n",
              "      <td>13353.480</td>\n",
              "      <td>POINT (2698674.606 224522.905)</td>\n",
              "    </tr>\n",
              "    <tr>\n",
              "      <th>2</th>\n",
              "      <td>2016</td>\n",
              "      <td>PHILADELPHIA</td>\n",
              "      <td>PHILADELPHIA</td>\n",
              "      <td>PA</td>\n",
              "      <td>40.023880</td>\n",
              "      <td>-75.220450</td>\n",
              "      <td>CERTAIN GLYCOL ETHERS</td>\n",
              "      <td>Pounds</td>\n",
              "      <td>104.135</td>\n",
              "      <td>POINT (2676833.394 261701.856)</td>\n",
              "    </tr>\n",
              "    <tr>\n",
              "      <th>3</th>\n",
              "      <td>2016</td>\n",
              "      <td>PHILADELPHIA</td>\n",
              "      <td>PHILADELPHIA</td>\n",
              "      <td>PA</td>\n",
              "      <td>39.913540</td>\n",
              "      <td>-75.198890</td>\n",
              "      <td>LEAD COMPOUNDS</td>\n",
              "      <td>Pounds</td>\n",
              "      <td>1730.280</td>\n",
              "      <td>POINT (2684030.004 221697.388)</td>\n",
              "    </tr>\n",
              "    <tr>\n",
              "      <th>4</th>\n",
              "      <td>2016</td>\n",
              "      <td>PHILADELPHIA</td>\n",
              "      <td>PHILADELPHIA</td>\n",
              "      <td>PA</td>\n",
              "      <td>39.913540</td>\n",
              "      <td>-75.198890</td>\n",
              "      <td>BENZENE</td>\n",
              "      <td>Pounds</td>\n",
              "      <td>39863.290</td>\n",
              "      <td>POINT (2684030.004 221697.388)</td>\n",
              "    </tr>\n",
              "  </tbody>\n",
              "</table>\n",
              "</div>\n",
              "      <button class=\"colab-df-convert\" onclick=\"convertToInteractive('df-0f286e4d-50fa-49e5-9aea-b0449d99b5f8')\"\n",
              "              title=\"Convert this dataframe to an interactive table.\"\n",
              "              style=\"display:none;\">\n",
              "        \n",
              "  <svg xmlns=\"http://www.w3.org/2000/svg\" height=\"24px\"viewBox=\"0 0 24 24\"\n",
              "       width=\"24px\">\n",
              "    <path d=\"M0 0h24v24H0V0z\" fill=\"none\"/>\n",
              "    <path d=\"M18.56 5.44l.94 2.06.94-2.06 2.06-.94-2.06-.94-.94-2.06-.94 2.06-2.06.94zm-11 1L8.5 8.5l.94-2.06 2.06-.94-2.06-.94L8.5 2.5l-.94 2.06-2.06.94zm10 10l.94 2.06.94-2.06 2.06-.94-2.06-.94-.94-2.06-.94 2.06-2.06.94z\"/><path d=\"M17.41 7.96l-1.37-1.37c-.4-.4-.92-.59-1.43-.59-.52 0-1.04.2-1.43.59L10.3 9.45l-7.72 7.72c-.78.78-.78 2.05 0 2.83L4 21.41c.39.39.9.59 1.41.59.51 0 1.02-.2 1.41-.59l7.78-7.78 2.81-2.81c.8-.78.8-2.07 0-2.86zM5.41 20L4 18.59l7.72-7.72 1.47 1.35L5.41 20z\"/>\n",
              "  </svg>\n",
              "      </button>\n",
              "      \n",
              "  <style>\n",
              "    .colab-df-container {\n",
              "      display:flex;\n",
              "      flex-wrap:wrap;\n",
              "      gap: 12px;\n",
              "    }\n",
              "\n",
              "    .colab-df-convert {\n",
              "      background-color: #E8F0FE;\n",
              "      border: none;\n",
              "      border-radius: 50%;\n",
              "      cursor: pointer;\n",
              "      display: none;\n",
              "      fill: #1967D2;\n",
              "      height: 32px;\n",
              "      padding: 0 0 0 0;\n",
              "      width: 32px;\n",
              "    }\n",
              "\n",
              "    .colab-df-convert:hover {\n",
              "      background-color: #E2EBFA;\n",
              "      box-shadow: 0px 1px 2px rgba(60, 64, 67, 0.3), 0px 1px 3px 1px rgba(60, 64, 67, 0.15);\n",
              "      fill: #174EA6;\n",
              "    }\n",
              "\n",
              "    [theme=dark] .colab-df-convert {\n",
              "      background-color: #3B4455;\n",
              "      fill: #D2E3FC;\n",
              "    }\n",
              "\n",
              "    [theme=dark] .colab-df-convert:hover {\n",
              "      background-color: #434B5C;\n",
              "      box-shadow: 0px 1px 3px 1px rgba(0, 0, 0, 0.15);\n",
              "      filter: drop-shadow(0px 1px 2px rgba(0, 0, 0, 0.3));\n",
              "      fill: #FFFFFF;\n",
              "    }\n",
              "  </style>\n",
              "\n",
              "      <script>\n",
              "        const buttonEl =\n",
              "          document.querySelector('#df-0f286e4d-50fa-49e5-9aea-b0449d99b5f8 button.colab-df-convert');\n",
              "        buttonEl.style.display =\n",
              "          google.colab.kernel.accessAllowed ? 'block' : 'none';\n",
              "\n",
              "        async function convertToInteractive(key) {\n",
              "          const element = document.querySelector('#df-0f286e4d-50fa-49e5-9aea-b0449d99b5f8');\n",
              "          const dataTable =\n",
              "            await google.colab.kernel.invokeFunction('convertToInteractive',\n",
              "                                                     [key], {});\n",
              "          if (!dataTable) return;\n",
              "\n",
              "          const docLinkHtml = 'Like what you see? Visit the ' +\n",
              "            '<a target=\"_blank\" href=https://colab.research.google.com/notebooks/data_table.ipynb>data table notebook</a>'\n",
              "            + ' to learn more about interactive tables.';\n",
              "          element.innerHTML = '';\n",
              "          dataTable['output_type'] = 'display_data';\n",
              "          await google.colab.output.renderOutput(dataTable, element);\n",
              "          const docLink = document.createElement('div');\n",
              "          docLink.innerHTML = docLinkHtml;\n",
              "          element.appendChild(docLink);\n",
              "        }\n",
              "      </script>\n",
              "    </div>\n",
              "  </div>\n",
              "  "
            ],
            "text/plain": [
              "   YEAR          CITY        COUNTY  ST   LATITUDE  LONGITUDE  \\\n",
              "0  2016  PHILADELPHIA  PHILADELPHIA  PA  40.005901 -75.072103   \n",
              "1  2016  PHILADELPHIA  PHILADELPHIA  PA  39.920120 -75.146410   \n",
              "2  2016  PHILADELPHIA  PHILADELPHIA  PA  40.023880 -75.220450   \n",
              "3  2016  PHILADELPHIA  PHILADELPHIA  PA  39.913540 -75.198890   \n",
              "4  2016  PHILADELPHIA  PHILADELPHIA  PA  39.913540 -75.198890   \n",
              "\n",
              "                CHEMICAL UNIT_OF_ME  TOTAL_RELE  \\\n",
              "0            FORMIC ACID     Pounds       0.160   \n",
              "1        ETHYLENE GLYCOL     Pounds   13353.480   \n",
              "2  CERTAIN GLYCOL ETHERS     Pounds     104.135   \n",
              "3         LEAD COMPOUNDS     Pounds    1730.280   \n",
              "4                BENZENE     Pounds   39863.290   \n",
              "\n",
              "                         geometry  \n",
              "0  POINT (2718560.227 256380.179)  \n",
              "1  POINT (2698674.606 224522.905)  \n",
              "2  POINT (2676833.394 261701.856)  \n",
              "3  POINT (2684030.004 221697.388)  \n",
              "4  POINT (2684030.004 221697.388)  "
            ]
          },
          "execution_count": 5,
          "metadata": {},
          "output_type": "execute_result"
        }
      ],
      "source": [
        "releases = gpd.read_file(\"/content/drive/MyDrive/Colab Notebooks/데이터마이닝/geospatial learn course data/toxic_release_pennsylvania/toxic_release_pennsylvania/toxic_release_pennsylvania.shp\") \n",
        "releases.head()"
      ]
    },
    {
      "cell_type": "code",
      "execution_count": null,
      "metadata": {
        "colab": {
          "base_uri": "https://localhost:8080/"
        },
        "id": "X6jhLbpie6Ni",
        "outputId": "d2a2a9f7-d29d-4df3-c51f-2e6fdca4e807"
      },
      "outputs": [
        {
          "name": "stdout",
          "output_type": "stream",
          "text": [
            "Drive already mounted at /content/drive; to attempt to forcibly remount, call drive.mount(\"/content/drive\", force_remount=True).\n"
          ]
        }
      ],
      "source": [
        "from google.colab import drive\n",
        "drive.mount('/content/drive')"
      ]
    },
    {
      "cell_type": "code",
      "execution_count": null,
      "metadata": {
        "colab": {
          "base_uri": "https://localhost:8080/",
          "height": 542
        },
        "id": "GNnq0A4JlYHW",
        "outputId": "cb09808c-eb69-4a33-faa6-4fc2c780f0b8"
      },
      "outputs": [
        {
          "data": {
            "text/html": [
              "\n",
              "  <div id=\"df-4ceab0ae-4283-437e-9305-626fa7275356\">\n",
              "    <div class=\"colab-df-container\">\n",
              "      <div>\n",
              "<style scoped>\n",
              "    .dataframe tbody tr th:only-of-type {\n",
              "        vertical-align: middle;\n",
              "    }\n",
              "\n",
              "    .dataframe tbody tr th {\n",
              "        vertical-align: top;\n",
              "    }\n",
              "\n",
              "    .dataframe thead th {\n",
              "        text-align: right;\n",
              "    }\n",
              "</style>\n",
              "<table border=\"1\" class=\"dataframe\">\n",
              "  <thead>\n",
              "    <tr style=\"text-align: right;\">\n",
              "      <th></th>\n",
              "      <th>SITE_NAME</th>\n",
              "      <th>ADDRESS</th>\n",
              "      <th>BLACK_CARB</th>\n",
              "      <th>ULTRAFINE_</th>\n",
              "      <th>CO</th>\n",
              "      <th>SO2</th>\n",
              "      <th>OZONE</th>\n",
              "      <th>NO2</th>\n",
              "      <th>NOY_NO</th>\n",
              "      <th>PM10</th>\n",
              "      <th>...</th>\n",
              "      <th>PAMS_VOC</th>\n",
              "      <th>TSP_11101</th>\n",
              "      <th>TSP_METALS</th>\n",
              "      <th>TSP_LEAD</th>\n",
              "      <th>TOXICS_TO1</th>\n",
              "      <th>MET</th>\n",
              "      <th>COMMUNITY_</th>\n",
              "      <th>LATITUDE</th>\n",
              "      <th>LONGITUDE</th>\n",
              "      <th>geometry</th>\n",
              "    </tr>\n",
              "  </thead>\n",
              "  <tbody>\n",
              "    <tr>\n",
              "      <th>0</th>\n",
              "      <td>LAB</td>\n",
              "      <td>1501 East Lycoming Avenue</td>\n",
              "      <td>N</td>\n",
              "      <td>N</td>\n",
              "      <td>Y</td>\n",
              "      <td>N</td>\n",
              "      <td>Y</td>\n",
              "      <td>Y</td>\n",
              "      <td>Y</td>\n",
              "      <td>N</td>\n",
              "      <td>...</td>\n",
              "      <td>Y</td>\n",
              "      <td>N</td>\n",
              "      <td>Y</td>\n",
              "      <td>N</td>\n",
              "      <td>y</td>\n",
              "      <td>N</td>\n",
              "      <td>N</td>\n",
              "      <td>40.008606</td>\n",
              "      <td>-75.097624</td>\n",
              "      <td>POINT (2711384.641 257149.310)</td>\n",
              "    </tr>\n",
              "    <tr>\n",
              "      <th>1</th>\n",
              "      <td>ROX</td>\n",
              "      <td>Eva and Dearnley Streets</td>\n",
              "      <td>N</td>\n",
              "      <td>N</td>\n",
              "      <td>N</td>\n",
              "      <td>N</td>\n",
              "      <td>N</td>\n",
              "      <td>N</td>\n",
              "      <td>N</td>\n",
              "      <td>N</td>\n",
              "      <td>...</td>\n",
              "      <td>N</td>\n",
              "      <td>N</td>\n",
              "      <td>Y</td>\n",
              "      <td>N</td>\n",
              "      <td>Y</td>\n",
              "      <td>N</td>\n",
              "      <td>N</td>\n",
              "      <td>40.050461</td>\n",
              "      <td>-75.236966</td>\n",
              "      <td>POINT (2671934.290 271248.900)</td>\n",
              "    </tr>\n",
              "    <tr>\n",
              "      <th>2</th>\n",
              "      <td>NEA</td>\n",
              "      <td>Grant Avenue and Ashton Street</td>\n",
              "      <td>N</td>\n",
              "      <td>N</td>\n",
              "      <td>N</td>\n",
              "      <td>N</td>\n",
              "      <td>Y</td>\n",
              "      <td>N</td>\n",
              "      <td>N</td>\n",
              "      <td>N</td>\n",
              "      <td>...</td>\n",
              "      <td>N</td>\n",
              "      <td>N</td>\n",
              "      <td>N</td>\n",
              "      <td>N</td>\n",
              "      <td>N</td>\n",
              "      <td>Y</td>\n",
              "      <td>N</td>\n",
              "      <td>40.072073</td>\n",
              "      <td>-75.013128</td>\n",
              "      <td>POINT (2734326.638 280980.247)</td>\n",
              "    </tr>\n",
              "    <tr>\n",
              "      <th>3</th>\n",
              "      <td>CHS</td>\n",
              "      <td>500 South Broad Street</td>\n",
              "      <td>N</td>\n",
              "      <td>N</td>\n",
              "      <td>N</td>\n",
              "      <td>N</td>\n",
              "      <td>N</td>\n",
              "      <td>N</td>\n",
              "      <td>N</td>\n",
              "      <td>N</td>\n",
              "      <td>...</td>\n",
              "      <td>N</td>\n",
              "      <td>N</td>\n",
              "      <td>Y</td>\n",
              "      <td>N</td>\n",
              "      <td>Y</td>\n",
              "      <td>N</td>\n",
              "      <td>N</td>\n",
              "      <td>39.944510</td>\n",
              "      <td>-75.165442</td>\n",
              "      <td>POINT (2693078.580 233247.101)</td>\n",
              "    </tr>\n",
              "    <tr>\n",
              "      <th>4</th>\n",
              "      <td>NEW</td>\n",
              "      <td>2861 Lewis Street</td>\n",
              "      <td>N</td>\n",
              "      <td>N</td>\n",
              "      <td>Y</td>\n",
              "      <td>Y</td>\n",
              "      <td>Y</td>\n",
              "      <td>N</td>\n",
              "      <td>Y</td>\n",
              "      <td>Y</td>\n",
              "      <td>...</td>\n",
              "      <td>N</td>\n",
              "      <td>Y</td>\n",
              "      <td>N</td>\n",
              "      <td>Y</td>\n",
              "      <td>N</td>\n",
              "      <td>Y</td>\n",
              "      <td>N</td>\n",
              "      <td>39.991688</td>\n",
              "      <td>-75.080378</td>\n",
              "      <td>POINT (2716399.773 251134.976)</td>\n",
              "    </tr>\n",
              "  </tbody>\n",
              "</table>\n",
              "<p>5 rows × 24 columns</p>\n",
              "</div>\n",
              "      <button class=\"colab-df-convert\" onclick=\"convertToInteractive('df-4ceab0ae-4283-437e-9305-626fa7275356')\"\n",
              "              title=\"Convert this dataframe to an interactive table.\"\n",
              "              style=\"display:none;\">\n",
              "        \n",
              "  <svg xmlns=\"http://www.w3.org/2000/svg\" height=\"24px\"viewBox=\"0 0 24 24\"\n",
              "       width=\"24px\">\n",
              "    <path d=\"M0 0h24v24H0V0z\" fill=\"none\"/>\n",
              "    <path d=\"M18.56 5.44l.94 2.06.94-2.06 2.06-.94-2.06-.94-.94-2.06-.94 2.06-2.06.94zm-11 1L8.5 8.5l.94-2.06 2.06-.94-2.06-.94L8.5 2.5l-.94 2.06-2.06.94zm10 10l.94 2.06.94-2.06 2.06-.94-2.06-.94-.94-2.06-.94 2.06-2.06.94z\"/><path d=\"M17.41 7.96l-1.37-1.37c-.4-.4-.92-.59-1.43-.59-.52 0-1.04.2-1.43.59L10.3 9.45l-7.72 7.72c-.78.78-.78 2.05 0 2.83L4 21.41c.39.39.9.59 1.41.59.51 0 1.02-.2 1.41-.59l7.78-7.78 2.81-2.81c.8-.78.8-2.07 0-2.86zM5.41 20L4 18.59l7.72-7.72 1.47 1.35L5.41 20z\"/>\n",
              "  </svg>\n",
              "      </button>\n",
              "      \n",
              "  <style>\n",
              "    .colab-df-container {\n",
              "      display:flex;\n",
              "      flex-wrap:wrap;\n",
              "      gap: 12px;\n",
              "    }\n",
              "\n",
              "    .colab-df-convert {\n",
              "      background-color: #E8F0FE;\n",
              "      border: none;\n",
              "      border-radius: 50%;\n",
              "      cursor: pointer;\n",
              "      display: none;\n",
              "      fill: #1967D2;\n",
              "      height: 32px;\n",
              "      padding: 0 0 0 0;\n",
              "      width: 32px;\n",
              "    }\n",
              "\n",
              "    .colab-df-convert:hover {\n",
              "      background-color: #E2EBFA;\n",
              "      box-shadow: 0px 1px 2px rgba(60, 64, 67, 0.3), 0px 1px 3px 1px rgba(60, 64, 67, 0.15);\n",
              "      fill: #174EA6;\n",
              "    }\n",
              "\n",
              "    [theme=dark] .colab-df-convert {\n",
              "      background-color: #3B4455;\n",
              "      fill: #D2E3FC;\n",
              "    }\n",
              "\n",
              "    [theme=dark] .colab-df-convert:hover {\n",
              "      background-color: #434B5C;\n",
              "      box-shadow: 0px 1px 3px 1px rgba(0, 0, 0, 0.15);\n",
              "      filter: drop-shadow(0px 1px 2px rgba(0, 0, 0, 0.3));\n",
              "      fill: #FFFFFF;\n",
              "    }\n",
              "  </style>\n",
              "\n",
              "      <script>\n",
              "        const buttonEl =\n",
              "          document.querySelector('#df-4ceab0ae-4283-437e-9305-626fa7275356 button.colab-df-convert');\n",
              "        buttonEl.style.display =\n",
              "          google.colab.kernel.accessAllowed ? 'block' : 'none';\n",
              "\n",
              "        async function convertToInteractive(key) {\n",
              "          const element = document.querySelector('#df-4ceab0ae-4283-437e-9305-626fa7275356');\n",
              "          const dataTable =\n",
              "            await google.colab.kernel.invokeFunction('convertToInteractive',\n",
              "                                                     [key], {});\n",
              "          if (!dataTable) return;\n",
              "\n",
              "          const docLinkHtml = 'Like what you see? Visit the ' +\n",
              "            '<a target=\"_blank\" href=https://colab.research.google.com/notebooks/data_table.ipynb>data table notebook</a>'\n",
              "            + ' to learn more about interactive tables.';\n",
              "          element.innerHTML = '';\n",
              "          dataTable['output_type'] = 'display_data';\n",
              "          await google.colab.output.renderOutput(dataTable, element);\n",
              "          const docLink = document.createElement('div');\n",
              "          docLink.innerHTML = docLinkHtml;\n",
              "          element.appendChild(docLink);\n",
              "        }\n",
              "      </script>\n",
              "    </div>\n",
              "  </div>\n",
              "  "
            ],
            "text/plain": [
              "  SITE_NAME                         ADDRESS BLACK_CARB ULTRAFINE_ CO SO2  \\\n",
              "0       LAB       1501 East Lycoming Avenue          N          N  Y   N   \n",
              "1       ROX        Eva and Dearnley Streets          N          N  N   N   \n",
              "2       NEA  Grant Avenue and Ashton Street          N          N  N   N   \n",
              "3       CHS          500 South Broad Street          N          N  N   N   \n",
              "4       NEW               2861 Lewis Street          N          N  Y   Y   \n",
              "\n",
              "  OZONE NO2 NOY_NO PM10  ... PAMS_VOC TSP_11101 TSP_METALS TSP_LEAD  \\\n",
              "0     Y   Y      Y    N  ...        Y         N          Y        N   \n",
              "1     N   N      N    N  ...        N         N          Y        N   \n",
              "2     Y   N      N    N  ...        N         N          N        N   \n",
              "3     N   N      N    N  ...        N         N          Y        N   \n",
              "4     Y   N      Y    Y  ...        N         Y          N        Y   \n",
              "\n",
              "  TOXICS_TO1 MET COMMUNITY_   LATITUDE  LONGITUDE  \\\n",
              "0          y   N          N  40.008606 -75.097624   \n",
              "1          Y   N          N  40.050461 -75.236966   \n",
              "2          N   Y          N  40.072073 -75.013128   \n",
              "3          Y   N          N  39.944510 -75.165442   \n",
              "4          N   Y          N  39.991688 -75.080378   \n",
              "\n",
              "                         geometry  \n",
              "0  POINT (2711384.641 257149.310)  \n",
              "1  POINT (2671934.290 271248.900)  \n",
              "2  POINT (2734326.638 280980.247)  \n",
              "3  POINT (2693078.580 233247.101)  \n",
              "4  POINT (2716399.773 251134.976)  \n",
              "\n",
              "[5 rows x 24 columns]"
            ]
          },
          "execution_count": 6,
          "metadata": {},
          "output_type": "execute_result"
        }
      ],
      "source": [
        "stations = gpd.read_file(\"/content/drive/MyDrive/Colab Notebooks/데이터마이닝/geospatial learn course data/PhillyHealth_Air_Monitoring_Stations/PhillyHealth_Air_Monitoring_Stations/PhillyHealth_Air_Monitoring_Stations.shp\")\n",
        "stations.head()"
      ]
    },
    {
      "cell_type": "code",
      "execution_count": null,
      "metadata": {
        "colab": {
          "base_uri": "https://localhost:8080/"
        },
        "id": "Y41-eX0olb_k",
        "outputId": "da7c8234-c188-46da-86de-03448c84a5fb"
      },
      "outputs": [
        {
          "name": "stdout",
          "output_type": "stream",
          "text": [
            "EPSG:2272\n",
            "EPSG:2272\n"
          ]
        }
      ],
      "source": [
        "print(stations.crs)\n",
        "print(releases.crs)"
      ]
    },
    {
      "cell_type": "code",
      "execution_count": null,
      "metadata": {
        "colab": {
          "base_uri": "https://localhost:8080/"
        },
        "id": "6260mYUQlf4M",
        "outputId": "e4e535fe-a419-4545-af6b-769d18b7630f"
      },
      "outputs": [
        {
          "data": {
            "text/plain": [
              "0     44778.509761\n",
              "1     51006.456589\n",
              "2     77744.509207\n",
              "3     14672.170878\n",
              "4     43753.554393\n",
              "5      4711.658655\n",
              "6     23197.430858\n",
              "7     12072.823097\n",
              "8     79081.825506\n",
              "9      3780.623591\n",
              "10    27577.474903\n",
              "11    19818.381002\n",
              "dtype: float64"
            ]
          },
          "execution_count": 8,
          "metadata": {},
          "output_type": "execute_result"
        }
      ],
      "source": [
        "# Select one release incident in particular\n",
        "recent_release = releases.iloc[360]\n",
        "\n",
        "# Measure distance from release to each station\n",
        "distances = stations.geometry.distance(recent_release.geometry)\n",
        "distances"
      ]
    },
    {
      "cell_type": "code",
      "execution_count": null,
      "metadata": {
        "colab": {
          "base_uri": "https://localhost:8080/"
        },
        "id": "qXOG79djljVp",
        "outputId": "4729dbc7-9aaf-4cfd-9ff7-4d30725cef7a"
      },
      "outputs": [
        {
          "name": "stdout",
          "output_type": "stream",
          "text": [
            "Mean distance to monitoring stations: 33516.28487007786 feet\n"
          ]
        }
      ],
      "source": [
        "print('Mean distance to monitoring stations: {} feet'.format(distances.mean()))"
      ]
    },
    {
      "cell_type": "code",
      "execution_count": null,
      "metadata": {
        "colab": {
          "base_uri": "https://localhost:8080/"
        },
        "id": "cMNvOShdll1J",
        "outputId": "b8ff646a-80e3-4b82-936b-be6871dabb07"
      },
      "outputs": [
        {
          "name": "stdout",
          "output_type": "stream",
          "text": [
            "Closest monitoring station (3780.623590556444 feet):\n",
            "ADDRESS      3100 Penrose Ferry Road\n",
            "LATITUDE                    39.91279\n",
            "LONGITUDE                 -75.185448\n",
            "Name: 9, dtype: object\n"
          ]
        }
      ],
      "source": [
        "print('Closest monitoring station ({} feet):'.format(distances.min()))\n",
        "print(stations.iloc[distances.idxmin()][[\"ADDRESS\", \"LATITUDE\", \"LONGITUDE\"]])"
      ]
    },
    {
      "cell_type": "code",
      "execution_count": null,
      "metadata": {
        "colab": {
          "base_uri": "https://localhost:8080/"
        },
        "id": "UBrMZI5jlpb_",
        "outputId": "f6fd157d-57dd-4f10-ac52-c6ea50f62297"
      },
      "outputs": [
        {
          "data": {
            "text/plain": [
              "0    POLYGON ((2721944.641 257149.310, 2721893.792 ...\n",
              "1    POLYGON ((2682494.290 271248.900, 2682443.441 ...\n",
              "2    POLYGON ((2744886.638 280980.247, 2744835.789 ...\n",
              "3    POLYGON ((2703638.580 233247.101, 2703587.731 ...\n",
              "4    POLYGON ((2726959.773 251134.976, 2726908.924 ...\n",
              "dtype: geometry"
            ]
          },
          "execution_count": 11,
          "metadata": {},
          "output_type": "execute_result"
        }
      ],
      "source": [
        "two_mile_buffer = stations.geometry.buffer(2*5280)\n",
        "two_mile_buffer.head()"
      ]
    },
    {
      "cell_type": "code",
      "execution_count": null,
      "metadata": {
        "colab": {
          "base_uri": "https://localhost:8080/",
          "height": 245
        },
        "id": "9_A98Vtjltya",
        "outputId": "2a499970-c74f-4f3a-b941-d8f4bd451399"
      },
      "outputs": [
        {
          "ename": "NameError",
          "evalue": "ignored",
          "output_type": "error",
          "traceback": [
            "\u001b[0;31m---------------------------------------------------------------------------\u001b[0m",
            "\u001b[0;31mNameError\u001b[0m                                 Traceback (most recent call last)",
            "\u001b[0;32m<ipython-input-12-db2e33302dc1>\u001b[0m in \u001b[0;36m<cell line: 2>\u001b[0;34m()\u001b[0m\n\u001b[1;32m      1\u001b[0m \u001b[0;31m# Create map with release incidents and monitoring stations\u001b[0m\u001b[0;34m\u001b[0m\u001b[0;34m\u001b[0m\u001b[0m\n\u001b[0;32m----> 2\u001b[0;31m \u001b[0mm\u001b[0m \u001b[0;34m=\u001b[0m \u001b[0mfolium\u001b[0m\u001b[0;34m.\u001b[0m\u001b[0mMap\u001b[0m\u001b[0;34m(\u001b[0m\u001b[0mlocation\u001b[0m\u001b[0;34m=\u001b[0m\u001b[0;34m[\u001b[0m\u001b[0;36m39.9526\u001b[0m\u001b[0;34m,\u001b[0m\u001b[0;34m-\u001b[0m\u001b[0;36m75.1652\u001b[0m\u001b[0;34m]\u001b[0m\u001b[0;34m,\u001b[0m \u001b[0mzoom_start\u001b[0m\u001b[0;34m=\u001b[0m\u001b[0;36m11\u001b[0m\u001b[0;34m)\u001b[0m\u001b[0;34m\u001b[0m\u001b[0;34m\u001b[0m\u001b[0m\n\u001b[0m\u001b[1;32m      3\u001b[0m \u001b[0mHeatMap\u001b[0m\u001b[0;34m(\u001b[0m\u001b[0mdata\u001b[0m\u001b[0;34m=\u001b[0m\u001b[0mreleases\u001b[0m\u001b[0;34m[\u001b[0m\u001b[0;34m[\u001b[0m\u001b[0;34m'LATITUDE'\u001b[0m\u001b[0;34m,\u001b[0m \u001b[0;34m'LONGITUDE'\u001b[0m\u001b[0;34m]\u001b[0m\u001b[0;34m]\u001b[0m\u001b[0;34m,\u001b[0m \u001b[0mradius\u001b[0m\u001b[0;34m=\u001b[0m\u001b[0;36m15\u001b[0m\u001b[0;34m)\u001b[0m\u001b[0;34m.\u001b[0m\u001b[0madd_to\u001b[0m\u001b[0;34m(\u001b[0m\u001b[0mm\u001b[0m\u001b[0;34m)\u001b[0m\u001b[0;34m\u001b[0m\u001b[0;34m\u001b[0m\u001b[0m\n\u001b[1;32m      4\u001b[0m \u001b[0;32mfor\u001b[0m \u001b[0midx\u001b[0m\u001b[0;34m,\u001b[0m \u001b[0mrow\u001b[0m \u001b[0;32min\u001b[0m \u001b[0mstations\u001b[0m\u001b[0;34m.\u001b[0m\u001b[0miterrows\u001b[0m\u001b[0;34m(\u001b[0m\u001b[0;34m)\u001b[0m\u001b[0;34m:\u001b[0m\u001b[0;34m\u001b[0m\u001b[0;34m\u001b[0m\u001b[0m\n\u001b[1;32m      5\u001b[0m     \u001b[0mMarker\u001b[0m\u001b[0;34m(\u001b[0m\u001b[0;34m[\u001b[0m\u001b[0mrow\u001b[0m\u001b[0;34m[\u001b[0m\u001b[0;34m'LATITUDE'\u001b[0m\u001b[0;34m]\u001b[0m\u001b[0;34m,\u001b[0m \u001b[0mrow\u001b[0m\u001b[0;34m[\u001b[0m\u001b[0;34m'LONGITUDE'\u001b[0m\u001b[0;34m]\u001b[0m\u001b[0;34m]\u001b[0m\u001b[0;34m)\u001b[0m\u001b[0;34m.\u001b[0m\u001b[0madd_to\u001b[0m\u001b[0;34m(\u001b[0m\u001b[0mm\u001b[0m\u001b[0;34m)\u001b[0m\u001b[0;34m\u001b[0m\u001b[0;34m\u001b[0m\u001b[0m\n",
            "\u001b[0;31mNameError\u001b[0m: name 'folium' is not defined"
          ]
        }
      ],
      "source": [
        "# Create map with release incidents and monitoring stations\n",
        "m = folium.Map(location=[39.9526,-75.1652], zoom_start=11)\n",
        "HeatMap(data=releases[['LATITUDE', 'LONGITUDE']], radius=15).add_to(m)\n",
        "for idx, row in stations.iterrows():\n",
        "    Marker([row['LATITUDE'], row['LONGITUDE']]).add_to(m)\n",
        "    \n",
        "# Plot each polygon on the map\n",
        "GeoJson(two_mile_buffer.to_crs(epsg=4326)).add_to(m)\n",
        "\n",
        "# Show the map\n",
        "m"
      ]
    },
    {
      "cell_type": "code",
      "execution_count": null,
      "metadata": {
        "colab": {
          "base_uri": "https://localhost:8080/"
        },
        "id": "-e8Ya4b9kKlr",
        "outputId": "a392fcec-b59c-47d3-f4dd-71053afdfd80"
      },
      "outputs": [
        {
          "data": {
            "text/plain": [
              "(12, 24)"
            ]
          },
          "execution_count": 14,
          "metadata": {},
          "output_type": "execute_result"
        }
      ],
      "source": [
        "stations.shape"
      ]
    },
    {
      "cell_type": "code",
      "execution_count": null,
      "metadata": {
        "id": "CyzGWbULmRCZ"
      },
      "outputs": [],
      "source": [
        "### GitHub에는 100mb이상의 파일이 안올라간다"
      ]
    },
    {
      "cell_type": "code",
      "execution_count": null,
      "metadata": {
        "id": "eCqdiIz7lx5n"
      },
      "outputs": [],
      "source": [
        "# Turn group of polygons into single multipolygon\n",
        "my_union = two_mile_buffer.geometry.unary_union\n",
        "print('Type:', type(my_union))\n",
        "\n",
        "# Show the MultiPolygon object\n",
        "my_union"
      ]
    },
    {
      "cell_type": "code",
      "execution_count": null,
      "metadata": {
        "colab": {
          "base_uri": "https://localhost:8080/"
        },
        "id": "tLDTTPrBl06-",
        "outputId": "3fe3b6ab-bbc2-4aec-c71c-2bcbf845bdde"
      },
      "outputs": [
        {
          "data": {
            "text/plain": [
              "True"
            ]
          },
          "execution_count": 16,
          "metadata": {},
          "output_type": "execute_result"
        }
      ],
      "source": [
        "# The closest station is less than two miles away\n",
        "my_union.contains(releases.iloc[360].geometry)"
      ]
    },
    {
      "cell_type": "code",
      "execution_count": null,
      "metadata": {
        "colab": {
          "base_uri": "https://localhost:8080/"
        },
        "id": "MbRicO4il4FX",
        "outputId": "1a976552-c706-4f57-9bf4-5a0ee6cd36f4"
      },
      "outputs": [
        {
          "data": {
            "text/plain": [
              "False"
            ]
          },
          "execution_count": 17,
          "metadata": {},
          "output_type": "execute_result"
        }
      ],
      "source": [
        "# The closest station is more than two miles away\n",
        "my_union.contains(releases.iloc[358].geometry)"
      ]
    }
  ],
  "metadata": {
    "colab": {
      "provenance": []
    },
    "kernelspec": {
      "display_name": "Python 3",
      "name": "python3"
    },
    "language_info": {
      "name": "python"
    }
  },
  "nbformat": 4,
  "nbformat_minor": 0
}
